{
 "cells": [
  {
   "cell_type": "code",
   "execution_count": 104,
   "metadata": {},
   "outputs": [],
   "source": [
    "import numpy as npy\n",
    "from skimage.metrics import peak_signal_noise_ratio\n",
    "from PIL import Image\n",
    "import matplotlib.pyplot as plt\n",
    "import matplotlib.cm\n",
    "from models import *\n",
    "from utils.denoising_utils import *"
   ]
  },
  {
   "cell_type": "code",
   "execution_count": 105,
   "metadata": {},
   "outputs": [],
   "source": [
    "original_path = \"C:\\\\Users\\\\Leo\\\\Desktop\\\\FinalYearProject\\\\Dataf\\\\remlapl.jpg\"\n",
    "fusion_path = \"C:\\\\Users\\\\Leo\\\\Desktop\\\\FinalYearProject\\\\DD_remote_fusion_remosensoing.jpg\""
   ]
  },
  {
   "cell_type": "code",
   "execution_count": 106,
   "metadata": {},
   "outputs": [],
   "source": [
    "original_pil = get_gray_image(original_path,-1)[0]\n",
    "original_pil = original_pil.resize((128,128),Image.ANTIALIAS)\n",
    "original_np = pil_to_np(original_pil)\n",
    "fusion_pil = get_gray_image(fusion_path,-1)[0]\n",
    "fusion_np = pil_to_np(fusion_pil)"
   ]
  },
  {
   "cell_type": "code",
   "execution_count": 107,
   "metadata": {},
   "outputs": [
    {
     "name": "stdout",
     "output_type": "stream",
     "text": [
      "23.655357792254176\n"
     ]
    }
   ],
   "source": [
    "print(peak_signal_noise_ratio(original_np,fusion_np))"
   ]
  }
 ],
 "metadata": {
  "interpreter": {
   "hash": "4edd33a5b021060f8d4c84579bc96e7b596b488369b4d5b9c3903b56c4d266a4"
  },
  "kernelspec": {
   "display_name": "Python 3.7.6 64-bit",
   "language": "python",
   "name": "python3"
  },
  "language_info": {
   "codemirror_mode": {
    "name": "ipython",
    "version": 3
   },
   "file_extension": ".py",
   "mimetype": "text/x-python",
   "name": "python",
   "nbconvert_exporter": "python",
   "pygments_lexer": "ipython3",
   "version": "3.9.7"
  },
  "orig_nbformat": 4
 },
 "nbformat": 4,
 "nbformat_minor": 2
}
