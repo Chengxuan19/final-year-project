{
 "cells": [
  {
   "cell_type": "code",
   "execution_count": 202,
   "metadata": {},
   "outputs": [],
   "source": [
    "import numpy as np\n",
    "import pywt\n",
    "import matplotlib.pyplot as plt\n",
    "from PIL import Image\n",
    "from utils.denoising_utils import *\n",
    "from models import *\n",
    "import math"
   ]
  },
  {
   "cell_type": "code",
   "execution_count": 203,
   "metadata": {},
   "outputs": [
    {
     "name": "stdout",
     "output_type": "stream",
     "text": [
      "C:\\Users\\Leo\\Desktop\\FinalYearProject\\Dataf\\k3.jpg\n",
      "C:\\Users\\Leo\\Desktop\\FinalYearProject\\Dataf\\k8.jpg\n"
     ]
    }
   ],
   "source": [
    "fname_us = \"C:\\\\Users\\\\Leo\\\\Desktop\\\\FinalYearProject\\\\Dataf\\\\k3.jpg\"\n",
    "fname_mr = \"C:\\\\Users\\\\Leo\\\\Desktop\\\\FinalYearProject\\\\Dataf\\\\k8.jpg\"\n",
    "fname_fusion = \"C:\\\\Users\\\\Leo\\\\Desktop\\\\FinalYearProject\\\\DD_remote_fusion_remosensoing.jpg\"\n",
    "print(fname_us)\n",
    "print(fname_mr)\n",
    "# DIP_remote_fusion_as.jpg"
   ]
  },
  {
   "cell_type": "code",
   "execution_count": 204,
   "metadata": {},
   "outputs": [
    {
     "name": "stdout",
     "output_type": "stream",
     "text": [
      "(128, 128)\n",
      "222\n",
      "[[[0.49019608 0.5176471  0.49803922 ... 0.         0.         0.        ]\n",
      "  [0.5137255  0.52156866 0.5019608  ... 0.         0.         0.        ]\n",
      "  [0.49019608 0.5294118  0.53333336 ... 0.         0.         0.        ]\n",
      "  ...\n",
      "  [0.73333335 0.7529412  0.7607843  ... 0.         0.         0.        ]\n",
      "  [0.6627451  0.67058825 0.6745098  ... 0.         0.         0.        ]\n",
      "  [0.10196079 0.09803922 0.10196079 ... 0.         0.         0.        ]]]\n"
     ]
    }
   ],
   "source": [
    "us = get_gray_image(fname_us,-1)[0]\n",
    "mr = get_gray_image(fname_mr,-1)[0]\n",
    "us_pil = us.resize((128,128),Image.ANTIALIAS)\n",
    "us_np = pil_to_np(us_pil)\n",
    "mr_pil = mr.resize((128,128),Image.ANTIALIAS)\n",
    "mr_np = pil_to_np(mr_pil)\n",
    "fusion_pil = Image.open(fname_fusion)\n",
    "fusion_np = pil_to_np(fusion_pil)[0]\n",
    "print(fusion_np.shape)\n",
    "print(\"222\")\n",
    "print(us_np)"
   ]
  },
  {
   "cell_type": "code",
   "execution_count": 205,
   "metadata": {},
   "outputs": [
    {
     "name": "stdout",
     "output_type": "stream",
     "text": [
      "-0.009803951\n",
      "(1, 64, 64)\n"
     ]
    }
   ],
   "source": [
    "A_coeffs = pywt.dwt2(us_np,'haar')\n",
    "B_coeffs = pywt.dwt2(mr_np,'haar')\n",
    "F_coeffs = pywt.dwt2(fusion_np,'haar')\n",
    "A_cAi,(A_cHi,A_cVi,A_cDi) = A_coeffs\n",
    "B_cAi,(B_cHi,B_cVi,B_cDi) = B_coeffs\n",
    "F_cAi,(F_cHi,F_cVi,F_cDi) = F_coeffs\n",
    "print(A_cVi[0][3][4])\n",
    "print(A_cHi.shape)"
   ]
  },
  {
   "cell_type": "code",
   "execution_count": 206,
   "metadata": {},
   "outputs": [],
   "source": [
    "def find_EP_xy(A_coeffs,B_coeffs,F_coeffs):\n",
    "    A_cAi,(A_cHi,A_cVi,A_cDi) = A_coeffs\n",
    "    B_cAi,(B_cHi,B_cVi,B_cDi) = B_coeffs\n",
    "    F_cAi,(F_cHi,F_cVi,F_cDi) = F_coeffs\n",
    "\n",
    "    A_cAi,(A_cHi,A_cVi,A_cDi) = A_cAi[0],(A_cHi[0],A_cVi[0],A_cDi[0])\n",
    "    B_cAi,(B_cHi,B_cVi,B_cDi) = B_cAi[0],(B_cHi[0],B_cVi[0],B_cDi[0])\n",
    "    # F_cAi,(F_cHi,F_cVi,F_cDi) = F_cAi[0],(F_cHi[0],F_cVi[0],F_cDi[0])\n",
    "\n",
    "    # A_cAi,(A_cHi,A_cVi,A_cDi) = A_cAi[0]*1000,(A_cHi[0]*1000,A_cVi[0]*1000,A_cDi[0]*1000)\n",
    "    # B_cAi,(B_cHi,B_cVi,B_cDi) = B_cAi[0]*1000,(B_cHi[0]*1000,B_cVi[0]*1000,B_cDi[0]*1000)\n",
    "    # F_cAi,(F_cHi,F_cVi,F_cDi) = F_cAi*1000,(F_cHi*1000,F_cVi*1000,F_cDi*1000)\n",
    "    \n",
    "    \n",
    "    w_A = np.square(A_cHi)+np.square(A_cVi)+np.square(A_cDi)\n",
    "    w_B = np.square(B_cHi)+np.square(B_cVi)+np.square(B_cDi)\n",
    "\n",
    "    bottom_sum = 0\n",
    "    top_sum = 0\n",
    "    for i in range(len(w_A)):\n",
    "        for j in range(len(w_A[0])):\n",
    "            Fa_AF_H_xy = math.exp(-abs(A_cVi[i][j]-F_cVi[i][j]))\n",
    "            Fa_AF_V_xy = math.exp(-abs(A_cHi[i][j]-F_cHi[i][j]))\n",
    "            Fa_AF_D_xy = math.exp(-abs(A_cDi[i][j]-F_cDi[i][j]))\n",
    "            EP_AF_xy = (Fa_AF_D_xy+Fa_AF_H_xy+Fa_AF_V_xy)/3\n",
    "\n",
    "            Fa_BF_H_xy = math.exp(-abs(B_cVi[i][j]-F_cVi[i][j]))\n",
    "            Fa_BF_V_xy = math.exp(-abs(B_cHi[i][j]-F_cHi[i][j]))\n",
    "            Fa_BF_D_xy = math.exp(-abs(B_cDi[i][j]-F_cDi[i][j]))\n",
    "            EP_BF_xy = (Fa_BF_D_xy+Fa_BF_H_xy+Fa_BF_V_xy)/3\n",
    "\n",
    "            top_sum+=EP_AF_xy*w_A[i][j]+EP_BF_xy*w_B[i][j]\n",
    "\n",
    "            bottom_sum+=w_A[i][j]+w_B[i][j]\n",
    "\n",
    "    return top_sum/bottom_sum  \n",
    "    \n"
   ]
  },
  {
   "cell_type": "code",
   "execution_count": 207,
   "metadata": {},
   "outputs": [],
   "source": [
    "iLoop = find_EP_xy(A_coeffs,B_coeffs,F_coeffs)"
   ]
  },
  {
   "cell_type": "code",
   "execution_count": 208,
   "metadata": {},
   "outputs": [
    {
     "name": "stdout",
     "output_type": "stream",
     "text": [
      "0.9262630831802092\n"
     ]
    }
   ],
   "source": [
    "A_coeffs_ii = pywt.dwt2(A_cAi,'haar')\n",
    "B_coeffs_ii = pywt.dwt2(B_cAi,'haar')\n",
    "F_coeffs_ii = pywt.dwt2(F_cAi,'haar')\n",
    "iiLoop = find_EP_xy(A_coeffs_ii,B_coeffs_ii,F_coeffs_ii)\n",
    "print(iiLoop)"
   ]
  },
  {
   "cell_type": "code",
   "execution_count": 209,
   "metadata": {},
   "outputs": [
    {
     "name": "stdout",
     "output_type": "stream",
     "text": [
      "0.9368921809853482\n"
     ]
    }
   ],
   "source": [
    "print((iLoop**(2/3))*(iiLoop**(1/3)))"
   ]
  },
  {
   "cell_type": "code",
   "execution_count": null,
   "metadata": {},
   "outputs": [],
   "source": []
  }
 ],
 "metadata": {
  "interpreter": {
   "hash": "0813e47ba8d56617243c571e778e00920dc5350a4c2901e24beaaaab5dbc36ce"
  },
  "kernelspec": {
   "display_name": "Python 3.9.7 ('base')",
   "language": "python",
   "name": "python3"
  },
  "language_info": {
   "codemirror_mode": {
    "name": "ipython",
    "version": 3
   },
   "file_extension": ".py",
   "mimetype": "text/x-python",
   "name": "python",
   "nbconvert_exporter": "python",
   "pygments_lexer": "ipython3",
   "version": "3.9.7"
  },
  "orig_nbformat": 4
 },
 "nbformat": 4,
 "nbformat_minor": 2
}
